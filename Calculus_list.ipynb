{
 "cells": [
  {
   "cell_type": "markdown",
   "metadata": {},
   "source": [
    "# Calculus I - 2020"
   ]
  },
  {
   "cell_type": "markdown",
   "metadata": {},
   "source": [
    "![Philadelphia's Magic Gardens](https://d33wubrfki0l68.cloudfront.net/eab45e25bb79970178fab7a2d10cba0209372a59/94d9e/assets/images/philly-magic-garden.jpg)"
   ]
  },
  {
   "cell_type": "markdown",
   "metadata": {},
   "source": [
    "#### 1)  Investigação"
   ]
  },
  {
   "cell_type": "markdown",
   "metadata": {},
   "source": [
    "$f(x) =\n",
    "\\left\\{\n",
    "    \\begin{array}{ll}\n",
    "        |x|+x  & \\mbox{se }  \\ |x| \\leq 1 \\\\\n",
    "         3 & \\mbox{se }  \\ |x| > 1\n",
    "    \\end{array}\n",
    "\\right.$"
   ]
  },
  {
   "cell_type": "markdown",
   "metadata": {},
   "source": [
    "Para a **retirada** dos módulos é preciso considerar as possíveis naturezas de 'x', que por conta do módulo, foi excluída do processo, afinal $|-x| \\rightarrow |-1|.|x| \\rightarrow |x|$"
   ]
  },
  {
   "cell_type": "markdown",
   "metadata": {},
   "source": [
    "A priori para o ponto $1$, assim nossa função pode ser escrita como: <br/>\n",
    "Se $x>0 \\rightarrow |x|=x$ <br/>\n",
    "$f(x) =\n",
    "\\left\\{\n",
    "    \\begin{array}{ll}\n",
    "        x+x  & \\mbox{se }  \\ x \\leq 1 \\\\\n",
    "         3 & \\mbox{se }  \\ x > 1\n",
    "    \\end{array}\n",
    "\\right.$\n",
    "<br/> <br/> <br/>\n",
    "Segue que $\\lim\\limits_{x \\to 1^-} f(x) = x+x \\rightarrow \\lim\\limits_{x \\to 1^-} f(x) = 1+1 = 2 $ <br/> <br/>\n",
    "Utilizamos a primeira setença da chave porque a aproximação é feita por valores menores\n",
    "que 1, obedecendo a condição $x\\leq 1$. Procedendo de maneira análoga temos que: <br/>\n",
    "$\\lim\\limits_{x \\to 1^+} f(x) = 3$  <br/>  <br/>\n",
    "Dado que estamos nos aproximando de 1 por valores maiores, obedecendo a segunda condição. <br/>\n",
    "Concluimos que o $\\lim\\limits_{x \\to 1} f(x)$ não existe."
   ]
  },
  {
   "cell_type": "markdown",
   "metadata": {},
   "source": [
    "![grafico](https://i.imgur.com/06wrxQ4.png)"
   ]
  },
  {
   "cell_type": "markdown",
   "metadata": {},
   "source": [
    "Já no ponto $-1$, se $x<0 \\rightarrow |x|=-x$ , entenda, aqui **não calculamos o módulo**, estamos é retirando ele (Pergunta feita por Mykhael 03/2020).<br/> <br/>\n",
    "$f(x) =\n",
    "\\left\\{\n",
    "    \\begin{array}{ll}\n",
    "        -x+x  & \\mbox{se }  \\ -1 \\leq x \\leq 1 \\\\\n",
    "         3 & \\mbox{se }  \\ \\  x < -1\n",
    "    \\end{array}\n",
    "\\right.$\n",
    "<br/><br/><br/>\n",
    "Segue que $\\lim\\limits_{x \\to 1^+} f(x) = -x+x \\rightarrow \\lim\\limits_{x \\to 1^+} f(x) = 0 $ <br/> <br/>\n",
    "Utilizamos a primeira setença da chave porque a aproximação é feita por valores menores\n",
    "que 1, obedecendo a condição $x\\leq 1$. Procedendo de maneira análoga temos que: <br/>\n",
    "$\\lim\\limits_{x \\to 1^-} f(x) = 3$  <br/>  <br/>\n",
    "Dado que estamos nos aproximando de -1 por valores menores, obedecendo a segunda condição."
   ]
  },
  {
   "cell_type": "markdown",
   "metadata": {},
   "source": [
    "![grafico](https://i.imgur.com/qRIxq6t.png)"
   ]
  },
  {
   "cell_type": "markdown",
   "metadata": {},
   "source": [
    "Embasado nas análises feitas, resulta que: <br/>\n",
    "Para o ponto $1$ os limites $\\lim\\limits_{x \\to \\ -1^-} f(x)$,e  $\\lim\\limits_{x \\to \\ -1^+}f(x)$ não convergem seus valores, portanto o limite $\\lim\\limits_{x \\to \\ -1} f(x)$ não existe (veja o gráfico acima e perceba que só seria possível se eles coincidissem)\n"
   ]
  },
  {
   "cell_type": "markdown",
   "metadata": {},
   "source": [
    "---\n",
    "---\n",
    "---"
   ]
  },
  {
   "cell_type": "markdown",
   "metadata": {},
   "source": [
    "#### 2) Investigação"
   ]
  },
  {
   "cell_type": "markdown",
   "metadata": {},
   "source": [
    "$f(x) =\n",
    "\\left\\{\n",
    "    \\begin{array}{ll}\n",
    "        x^3  & \\mbox{se } \\ x \\leq 0 \\\\\n",
    "        1 & \\mbox{se } \\  0<x<1 \\\\\n",
    "        x^2 & \\mbox{se } \\ x\\geq 1\n",
    "    \\end{array}\n",
    "\\right.$"
   ]
  },
  {
   "cell_type": "markdown",
   "metadata": {},
   "source": [
    "Neste exercício também devemos fazer a análise baseando-se no estudo das desigualdades. Destarte para para o ponto $0$, temos: <br/>\n",
    "$\\lim\\limits_{x \\to 0^-} f(x) = x^3 \\rightarrow \\lim\\limits_{x \\to 0^-}f(x) = 0$ <br/> <br/>\n",
    "Próximo ao ponto $0$ ainda encontramos: <br/>\n",
    "$\\lim\\limits_{x \\to 0^+} f(x) = 1 \\rightarrow \\lim\\limits_{x \\to 0^+}f(x) = 1$ <br/><br/>\n",
    "Do exposto, chegamos à conclusão de que $\\lim\\limits_{x \\to 0} f(x)$ não existe."
   ]
  },
  {
   "cell_type": "markdown",
   "metadata": {},
   "source": [
    "Analogamente para o ponto $1$, temos: <br/>\n",
    "$\\lim\\limits_{x \\to 1^-} f(x) = 1 \\rightarrow \\lim\\limits_{x \\to 1^-}f(x) = 1$ <br/><br/>\n",
    "Próximo ao ponto $1$ ainda encontramos: <br/>\n",
    "$\\lim\\limits_{x \\to 1^+}f(x) = x^2 \\rightarrow \\lim\\limits_{x \\to 1^+}f(x) = 1$ <br/><br/>\n",
    "Concluímos, portanto, que o $\\lim\\limits_{x \\to 1}f(x)$ existe e vale $1$, dado que os limites laterais coincidem.\n"
   ]
  },
  {
   "cell_type": "markdown",
   "metadata": {},
   "source": [
    "---\n",
    "---\n",
    "---"
   ]
  },
  {
   "cell_type": "markdown",
   "metadata": {},
   "source": [
    "![grafico](https://i.imgur.com/w2Dcs0J.png)"
   ]
  },
  {
   "cell_type": "markdown",
   "metadata": {},
   "source": [
    "---\n",
    "---\n",
    "---"
   ]
  },
  {
   "cell_type": "markdown",
   "metadata": {},
   "source": [
    "#### 4)"
   ]
  },
  {
   "cell_type": "markdown",
   "metadata": {},
   "source": [
    "Em primeiro plano, **as reta assíntotas horizontais assumem pontos muito distantes da origem, quando   o numerador é menor que o denominador**, dado esse lembrete, prosseguimos para a resolução. Por pontos distantes devemos entender os maiores pontos de cada lado da abscissa (reta $x$), em notação matemática: <br/>\n",
    "$\\lim\\limits_{x \\to \\infty}f(x) = \\frac{x}{x+1} \\rightarrow \\lim\\limits_{x \\to \\infty}f(x) = \\frac{x}{x} \\ .\\frac{1}{1+\\frac{1}{x}} \\rightarrow \\lim\\limits_{x \\to \\infty}f(x) = \\frac{1}{1+\\frac{1}{x}} $ <br/><br/>\n",
    "Como $\\frac{1}{x}$ fica cada vez menor a medida que você faz x crescer, se $x \\to \\infty$ então $\\frac{1}{x} \\to 0$ <br/>\n",
    "Nosso limite chega em:\n",
    "$\\lim\\limits_{x \\to \\infty}f(x) = 1$\n",
    "Concluimos que para valores muito altos de $x$, $f(x)$ aproxima-se da reta $y=1$, no caso a assíntota hotizontal procurada."
   ]
  },
  {
   "cell_type": "markdown",
   "metadata": {},
   "source": [
    "![grafico](https://i.imgur.com/hrniKZu.png)"
   ]
  },
  {
   "cell_type": "markdown",
   "metadata": {},
   "source": [
    "---\n",
    "---\n",
    "---"
   ]
  },
  {
   "cell_type": "markdown",
   "metadata": {},
   "source": [
    "#### 5)"
   ]
  },
  {
   "cell_type": "markdown",
   "metadata": {},
   "source": [
    "Ora, é interessante ver que as assíntotas assumem um papel importante no gráfico de uma função no que concerne ao \"comportamento em pontos estratégicos\", tais como pontos que não estão definidos no domínio da função, ou pontos muito distantes da origem do gráfico. <br/>\n",
    "Nesse caso, **as assíntotas verticais assumem pontos que não estão definidos no domínio da função**. \n",
    "O ponto $-1$ não pertence ao domínio da função $f(x)$, logo o comportamento de $f(x)= \\frac{x}{x+1}$ para valores próximos de $1$ pode ser dado pelo estudo dos limites para esse ponto, assim: <br/>\n",
    "$\\lim\\limits_{x \\to \\ -1^+}f(x)= \\frac{x}{x+1} \\rightarrow \\lim\\limits_{x \\to \\ -1^+}f(x)= -\\infty$\n",
    "<br/> <br/>\n",
    "$\\lim\\limits_{x \\to \\ -1^-}f(x)= \\frac{x}{x+1} \\rightarrow \\lim\\limits_{x \\to \\ -1^-}f(x)= \\infty$\n",
    "<br/><br/>\n",
    "Isso nos diz que a reta que passa por $x=-1$ leva a função a valores extremamente altos, na prática, se quisermos determinar a reta **assíntota vertical** basta tomar o ponto não pertencente ao domínio da função, um caso qualquer $x=a \\iff a \\notin D(f(x))$, $D$ simbloliza o domínio (de $f(x)$ no caso)."
   ]
  },
  {
   "cell_type": "markdown",
   "metadata": {},
   "source": [
    "![grafico](https://i.imgur.com/hrniKZu.png)"
   ]
  },
  {
   "cell_type": "markdown",
   "metadata": {},
   "source": [
    "  ---\n",
    "  ---\n",
    "  ---"
   ]
  },
  {
   "cell_type": "markdown",
   "metadata": {},
   "source": [
    "#### 6)"
   ]
  },
  {
   "cell_type": "markdown",
   "metadata": {},
   "source": [
    "Gosto do caso da assíntota oblíqua porque ela consegue incorporar os dois conceitos anteriores se alterarmos sua estrutura funcional (da função dela). Para uma melhor ilustração do que estamos querendo oferecer veja a animação a seguir:"
   ]
  },
  {
   "cell_type": "markdown",
   "metadata": {},
   "source": [
    "[Animação](https://i.imgur.com/DY0asRj.mp4)"
   ]
  },
  {
   "cell_type": "markdown",
   "metadata": {},
   "source": [
    "Com a animação quero mostrar que quando a reta $y=a.x$ tem seu coeficiente $a$ variando de $a=0 \\to \\infty$ segue que ela vai passando de horizontal, à oblíqua e então **tende** à ser vertical."
   ]
  },
  {
   "cell_type": "markdown",
   "metadata": {},
   "source": [
    "Para os casos que pesquisamos, as assíntotas oblíquas se aplicam a casos de funções polinomiais, mais especificamente do quociente entre duas delas. Prosseguindo para nossa resolução temos que: <br/>\n",
    "$f(x)= x + \\frac{1}{x}$ <br/> \n",
    "Seja a reta assíntota oblíqua de equação: <br/>\n",
    "$y=ax+b$\n",
    "Para encontrarmos o coeficiente angular ($a$) da reta assíntota oblíqua é importante deixar no lado direito da igualdade uma expressão que possa ser calculada quando $x$ tende para valores muito grandes. isto é: <br/>\n",
    "$\\lim\\limits_{x \\to \\infty}g(x) = L$ <br/>\n",
    "Habilmente, observamos que dividindo ambos os lados da equação original chegamos em um valor mensurável: <br/>\n",
    "$\\lim\\limits_{x \\to \\infty}\\frac{f(x)}{x}=1+\\frac{1}{x^2} \\rightarrow \\lim\\limits_{x \\to \\infty}\\frac{f(x)}{x}=1$ <br/><br/>\n",
    "Portanto o coeficiente angular da reta é $1$, agora devemos encontrar o coeficiente linear $b$ para o qual:<br/>\n",
    "$\\lim\\limits_{x \\to \\infty}f(x)-ax $  existe: <br/>\n",
    "$\\lim\\limits_{x \\to \\infty}f(x)-ax=(x+\\frac{1}{x})-1.x \\rightarrow \\lim\\limits_{x \\to \\infty}f(x)-ax=\\frac{1}{x} \\rightarrow \\lim\\limits_{x \\to \\infty}f(x)-ax=0$ <br/>\n",
    "Segue que o coeficiente linear ($b$) da reta é nulo e a equação se resume em $y=x$ como atesta a questão."
   ]
  },
  {
   "cell_type": "markdown",
   "metadata": {},
   "source": [
    "![grafico](https://i.imgur.com/nO91L0R.png)"
   ]
  },
  {
   "cell_type": "markdown",
   "metadata": {},
   "source": [
    "---\n",
    "---\n",
    "---"
   ]
  },
  {
   "cell_type": "markdown",
   "metadata": {},
   "source": [
    "####  9)"
   ]
  },
  {
   "cell_type": "markdown",
   "metadata": {},
   "source": [
    "Antes de tudo, leia a questão. Sobre o domínio percebemos que $\\frac{1}{x}$ só está definida se $x \\neq 0$, além disso, sabemos que as funções seno e cosseno são contínuas para qualquer valor numérico válido, daí concluimos que as funções são contínuas. <br/>\n",
    "Perceba que é importante definir o domínio para depois definir a continuidade da função."
   ]
  },
  {
   "cell_type": "markdown",
   "metadata": {},
   "source": [
    "![grafico](https://i.imgur.com/af5xNaQ.png)"
   ]
  },
  {
   "cell_type": "markdown",
   "metadata": {},
   "source": [
    "---\n",
    "---\n",
    "---"
   ]
  },
  {
   "cell_type": "markdown",
   "metadata": {},
   "source": [
    "#### 11) "
   ]
  },
  {
   "cell_type": "markdown",
   "metadata": {},
   "source": [
    "$f(x) =\n",
    "\\left\\{\n",
    "    \\begin{array}{ll}\n",
    "         \\frac{sen(x)}{|x|}  & \\mbox{se }  \\  x \\neq 0 \\\\\n",
    "         1 & \\mbox{se }  \\ \\  x = 0\n",
    "    \\end{array}\n",
    "\\right.$"
   ]
  },
  {
   "cell_type": "markdown",
   "metadata": {},
   "source": [
    "Para $x>0$, temos: $\\ \\ |x|=x$\n",
    "\n",
    "$f(x) =\n",
    "\\left\\{\n",
    "    \\begin{array}{ll}\n",
    "         \\frac{sen(x)}{x}  & \\mbox{se }  \\  x \\neq 0 \\\\\n",
    "         1 & \\mbox{se }  \\ \\  x = 0\n",
    "    \\end{array}\n",
    "\\right.$ <br/><br/>\n",
    "Investigar a continuidade da função implica analisar o comportamento dela na vizinhança do ponto de estudo. Nesse sentido: <br/>\n",
    "$\\lim\\limits_{x \\to 0^+}f(x)= \\frac{sen(x)}{x} \\rightarrow \\lim\\limits_{x \\to 0^+}f(x)=1$ <br/>"
   ]
  },
  {
   "cell_type": "markdown",
   "metadata": {},
   "source": [
    "Para $x<0$, temos $\\ \\ |x|=-x$ \n",
    "\n",
    "$f(x) =\n",
    "\\left\\{\n",
    "    \\begin{array}{ll}\n",
    "         \\frac{sen(x)}{-x}  & \\mbox{se }  \\  x \\neq 0 \\\\\n",
    "         1 & \\mbox{se }  \\ \\  x = 0\n",
    "    \\end{array}\n",
    "\\right.$\n",
    "<br/><br/>\n",
    "$\\lim\\limits_{x \\to 0^-}f(x)= \\frac{sen(x)}{-x} \\rightarrow \\lim\\limits_{x \\to 0^-}f(x)=-1$\n",
    "<br/><br/>\n",
    "Tanto o limite lateral por valores menores ($x \\to 0^-$) quanto por valores maiores ($x \\to x^+$) levam a valores distintos, o que nos leva a concluir que a função é descontínua para o ponto pedido. <br/>\n",
    "A título de informação, mesmo que os dois limites coincidissem, mas o ponto fosse definido por outro valor, por exemplo ambos os limites apontam para 2, enquanto que lá nas chaves perto de f(x) diz-se que o valor é 1 se x=0, teríamos uma função descontínua. <br/>\n",
    "Genericamente: Contínua se $\\lim\\limits_{x \\to a^-}f(x)=\\lim\\limits_{x \\to a^+}f(x)=f(a)$ para um dado ponto $a$ <br/>\n",
    "Curiosidade: Podemos falar em continuidade lateral, para isso basta que um dos limites laterais equivala ao valor naquele ponto."
   ]
  },
  {
   "cell_type": "markdown",
   "metadata": {},
   "source": [
    "![](https://i.imgur.com/rF6cFnU.png)"
   ]
  },
  {
   "cell_type": "markdown",
   "metadata": {},
   "source": [
    "---\n",
    "---\n",
    "---"
   ]
  },
  {
   "cell_type": "markdown",
   "metadata": {},
   "source": [
    "#### 12)"
   ]
  },
  {
   "cell_type": "markdown",
   "metadata": {},
   "source": [
    "$f(x) =\n",
    "\\left\\{\n",
    "    \\begin{array}{ll}\n",
    "         sen(\\frac{1}{x})  & \\mbox{se }  \\  x \\neq 0 \\\\\n",
    "         0 & \\mbox{se }  \\ \\  x = 0\n",
    "    \\end{array}\n",
    "\\right.$"
   ]
  },
  {
   "cell_type": "markdown",
   "metadata": {},
   "source": []
  },
  {
   "cell_type": "markdown",
   "metadata": {},
   "source": []
  },
  {
   "cell_type": "markdown",
   "metadata": {},
   "source": []
  },
  {
   "cell_type": "markdown",
   "metadata": {},
   "source": [
    "---\n",
    "---\n",
    "---"
   ]
  },
  {
   "cell_type": "markdown",
   "metadata": {},
   "source": [
    "####  13)"
   ]
  },
  {
   "cell_type": "markdown",
   "metadata": {},
   "source": [
    "$f(x) =\n",
    "\\left\\{\n",
    "    \\begin{array}{ll}\n",
    "         x^2.sen(\\frac{1}{x})  & \\mbox{se }  \\  x \\neq 0 \\\\\n",
    "         0 & \\mbox{se }  \\ \\  x = 0\n",
    "    \\end{array}\n",
    "\\right.$"
   ]
  },
  {
   "cell_type": "markdown",
   "metadata": {},
   "source": [
    "Analogamente, <br> $\\lim\\limits_{x \\to 0}f(x)=x^2.sen(\\frac{1}{x})$ <br> Aqui podemos fazer: <br>\n",
    "$-1 \\leq sen(a)\\leq 1 $ para um $a$ qualquer, se $a=\\frac{1}{x}$, então: <br>\n",
    "$-1 \\leq sen(\\frac{1}{x}) \\leq 1 \\to -x^2 \\leq x^2.sen(\\frac{1}{x}) \\leq x^2$ <br><br>\n",
    "Por fim calclulamos o limite: <br>\n",
    "$\\lim\\limits_{x \\to 0}-x^2 \\leq \\lim\\limits_{x \\to 0}(x^2.sen(\\frac{1}{x})) \\leq \\lim\\limits_{x \\to 0}x^2$ <br><br>\n",
    "Pelo Teorema do confronto, segue que se $\\lim\\limits_{x \\to 0}-x^2=0 \\ $, e  $ \\ \\lim\\limits_{x \\to 0}x^2=0$, então $\\lim\\limits_{x \\to 0}(x^2.sen(\\frac{1}{x})) \\ $ também converge para $0$.<br>\n",
    "Daí como $\\lim\\limits_{x \\to 0}f(x)=f(0)$ segue que a função é contínua."
   ]
  },
  {
   "cell_type": "markdown",
   "metadata": {},
   "source": [
    "Em particular essa função é uma das mais citadas sobre a questão das funções de Darboux, a grande qualidade delas é que são funções derivadas de outras, além disso apresentam descontinuidades nas imagens, embora isso não seja um obstáculo para a verificação do Teorema do Valor Intermediário nelas!!!"
   ]
  },
  {
   "cell_type": "markdown",
   "metadata": {},
   "source": [
    "![](https://i.imgur.com/jnNWGRM.png)"
   ]
  },
  {
   "cell_type": "markdown",
   "metadata": {},
   "source": [
    "---\n",
    "---\n",
    "---"
   ]
  },
  {
   "cell_type": "markdown",
   "metadata": {},
   "source": [
    "\n",
    "## Agradeço imensamente à oportunidade, coloco-me à disposição para futuras dúvidas e sugestões. Um forte abraço!!!\n"
   ]
  },
  {
   "cell_type": "markdown",
   "metadata": {},
   "source": [
    "---\n",
    "---\n",
    "---"
   ]
  },
  {
   "cell_type": "markdown",
   "metadata": {},
   "source": [
    "\n",
    "![](https://preview.redd.it/5sxu9ipqak851.jpg?auto=webp&s=2c22d9c6b649478ec16e3b76ec1aad5181177b49)\n",
    "![](https://i.ytimg.com/vi/gGYcSjrqbjc/maxresdefault.jpg \"Grande fã...\")"
   ]
  },
  {
   "cell_type": "markdown",
   "metadata": {},
   "source": [
    "![China's garden](https://instagram.fthe6-1.fna.fbcdn.net/v/t51.2885-15/e35/28430579_765649640292566_6928842254966587392_n.jpg?_nc_ht=instagram.fthe6-1.fna.fbcdn.net&_nc_cat=102&_nc_ohc=VF8itMRowkAAX-lczi_&tp=1&oh=e7a07c9ed8c2df89bec32fbb5de32c99&oe=5FE54E9C)"
   ]
  }
 ],
 "metadata": {
  "kernelspec": {
   "display_name": "Python 3",
   "language": "python",
   "name": "python3"
  },
  "language_info": {
   "codemirror_mode": {
    "name": "ipython",
    "version": 3
   },
   "file_extension": ".py",
   "mimetype": "text/x-python",
   "name": "python",
   "nbconvert_exporter": "python",
   "pygments_lexer": "ipython3",
   "version": "3.8.3"
  }
 },
 "nbformat": 4,
 "nbformat_minor": 4
}
