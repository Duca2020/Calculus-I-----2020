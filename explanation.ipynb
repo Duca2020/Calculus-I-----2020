{
 "cells": [
  {
   "cell_type": "markdown",
   "metadata": {},
   "source": [
    "## A definição formal de Limites"
   ]
  },
  {
   "cell_type": "markdown",
   "metadata": {},
   "source": [
    "---"
   ]
  },
  {
   "cell_type": "markdown",
   "metadata": {},
   "source": [
    "   A primeira pergunta é \"por que diabos estudar isso se nem mesmo outros capítulos falam dessa coisa????\". Então, nesse ponto concordo com você, o fato de termos que passar ainda por tais assuntos faz lembrar que a engenharia não é uma profissão meramente intuitiva, embora a tendência dos \"elite colleges\" (MIT, Havard, Stanford e Caltech) seja tratar temas difíceis por uma abordagem mais intuitiva, e é justamente por causa da \"intuição\" que você **DEVE** aprender alguns assuntos chatinhos, como esse.\n"
   ]
  },
  {
   "cell_type": "markdown",
   "metadata": {},
   "source": [
    "![](https://i.imgur.com/5M6R3GK.png \"Será?\")"
   ]
  },
  {
   "cell_type": "markdown",
   "metadata": {},
   "source": [
    "Para começar sobre a definição formal de limites eu pressuponho que já tenha tido contato com algumas notações comuns a esse assunto, sejam por exemplo: $\\delta , \\epsilon, \\lim\\limits_{x \\to x_0} f(x)$."
   ]
  },
  {
   "cell_type": "markdown",
   "metadata": {},
   "source": [
    "Pronto! Vamos começar por um exemplo, que tal $\\lim\\limits_{x \\to 1} f(x)$, onde $f(x)=x^2+3x+1$. <br>\n",
    "- A primieira coisa a se fazer nesses casos é observar **quem é a função analisada**, isto é, é contínua, polinomial, trigonométrica, exponencial ou daqueles tipos que vem definido depois de uma chave (exemplo a frente)?\n",
    "- Siga então tentando escrever a definição formal que temos para limites. Vamos lá (modelo de redação):\n",
    "<br><br>\n",
    " <font color=blue>Sendo $\\lim\\limits_{x \\to x_0} f(x) = L$<br>\n",
    "Dado um número $\\epsilon$ buscamos $\\delta$ tal que:\n",
    "se $0<|x-x_0|<\\delta$, então $|f(x)-L|<\\epsilon$</font><br><br>\n",
    "Neste exemplo substituímos por:<br>\n",
    "Sendo $\\lim\\limits_{x \\to 1} f(x) = L \\rightarrow \\lim\\limits_{x \\to 1}\\ (x^2+3x+1) = 1^2+3.1+1 = 5$<br>\n",
    "Dado um número $\\epsilon$ buscamos $\\delta$ tal que:\n",
    "se $0<|x-1|<\\delta$, então $|f(x)-5|<\\epsilon$<br>\n"
   ]
  },
  {
   "cell_type": "markdown",
   "metadata": {},
   "source": [
    "Primeiro vi que se tratava de uma função polinomial, logo contínua, não preciso me preocupar se ela tem problema em algum ponto, pois basta plugar o valor que dá certo. <br>\n",
    "Em seguida calculei o valor do L, aí você pergunta \"Poxa, mas eu pensei que era pra demonstrar justamente isso, se eu já calculei L pra que serve o resto?\", calma, jaja chego lá.<br>\n",
    "Por fim escrevi a redação no mesmo modelo da azul, só com os valores substituídos."
   ]
  },
  {
   "cell_type": "markdown",
   "metadata": {},
   "source": [
    "Prosseguindo...<br>\n",
    "De $|f(x)-5|<\\epsilon$, fazemos:<br>\n",
    "$|x^2+3x+1-5|<\\epsilon$<br>\n",
    "$|x^2+3x-4|<\\epsilon$<br>\n",
    "Ora, vamos tentar então reduzir esse polinômio em partes menores:<br>\n",
    "$x^2+3x-4=0$<br>\n",
    "$\\Delta=3^2-4.(-4).1 \\rightarrow \\Delta=25$<br>\\\n",
    "Então:<br>\n",
    "$x_1=\\frac{-3+\\sqrt25}{2.1} \\rightarrow x_1=1$<br>\n",
    "$x_2=\\frac{-3-\\sqrt25}{2.1} \\rightarrow x_2=-4$<br><br>\n",
    "\n",
    "Voltando para a expressão...<br>   \n",
    "$|x^2+3x-4|<\\epsilon \\rightarrow |(x-(-4))(x-1)<\\epsilon| \\rightarrow |(x+4)(x-1)|<\\epsilon$"
   ]
  },
  {
   "cell_type": "markdown",
   "metadata": {},
   "source": [
    "Talvez você tenha parado aqui e pensado como proceder? Pois bem, é aqui que fica as **dicas**, **escolha um valor** (faça grande dms n pra não ficar umas conta gigante) **para a desigualdade que o $\\delta$ te indica**, vou escolher $|x-1|<1$, assim:<br>\n",
    "$-1<x-1<1 \\rightarrow -1+1<x<1+1 \\rightarrow 0<x<2$<br>\n",
    "Pronto, mas isso nada diz a respeito de $\\delta$, ele pode assumir valores beeem maiores, então vamos **continuar com a expressão do $\\epsilon$**.<br><br>\n",
    "Se $0<x<2 \\rightarrow 4<x+4<6$<br> <br>\n",
    "Ok, agora sabemos que se $x+4<6$ com certeza $|(x+4)(x-1)|<|6.(x-1)|$, se quisermos um $\\epsilon$ bom mesmo pra trabalhar (trabalhar com margem segura no caso) vamos garantir que:<br>\n",
    "$|6.(x-1)|<\\epsilon$<br>\n",
    "Segue que:  <br>\n",
    "$6|(x-1)|<\\epsilon \\rightarrow |x-1|<\\frac{\\epsilon}{6}$\n",
    "Escolhemos um $\\delta=min\\{1,\\frac{\\epsilon}{6}\\}$ para encaixar direitinho nas condições (na primeira desigualdade e na última que calculamos)."
   ]
  },
  {
   "cell_type": "markdown",
   "metadata": {},
   "source": [
    "Ótimo, começo no caso kkkkkk. Aquilo foi uma 'investigação' sobre o limite, agora sabemos que devemos trabalhar com um $\\sigma$ nas condições dadas acima para que nossa prova seja concluída.<br>\n",
    "OBS: O fato de ter usado $|x-1|<1$ não quer dizer que nossa prova só vai funcionar para um caso particular, para tanto sugiro que faça com outro e veja que na prova vamos obter o MESMO resultado!!!<br><br>\n",
    "Prova<br>\n",
    "Dado $\\epsilon>0$, peguemos $\\delta=min\\{1,\\frac{\\epsilon}{6}\\}$, onde $0<|x-1|<\\delta$. Sabemos que:<br>\n",
    "$\n",
    "\\left\\{\n",
    "    \\begin{array}{ll}\n",
    "        0<|x-1|<1  \\\\\n",
    "        4<|x+4|<6\n",
    "    \\end{array}\n",
    "\\right.$\n",
    "<br><br>\n",
    "Mas $|x-1|<\\frac{\\epsilon}{6}$, então:<br>\n",
    "$|x-1|.6<\\epsilon$<br>\n",
    "$|x-1|.|x+4|<\\epsilon$<br>\n",
    "$|x^2+3x-4|<\\epsilon$<br>\n",
    "$|(x^2+3x+1-5)|<\\epsilon$<br>\n",
    "$|(x^2+3x+1)-5|<\\epsilon$<br>\n",
    "<br>\n",
    "Conseguimos voltar ao nosso ponto de inicio a partir das condições estipuladas, o que prova que:<br><br>\n",
    "$\\lim\\limits_{x \\to \\ 1}f(x)=5$"
   ]
  },
  {
   "cell_type": "markdown",
   "metadata": {},
   "source": [
    "---"
   ]
  },
  {
   "cell_type": "markdown",
   "metadata": {},
   "source": [
    "### Só a título de conclusão:"
   ]
  },
  {
   "cell_type": "code",
   "execution_count": 5,
   "metadata": {
    "scrolled": true
   },
   "outputs": [
    {
     "data": {
      "text/html": [
       "<iframe width=\"560\" height=\"315\" src=\"https://www.youtube.com/watch?v=kfF40MiS7zA&list=PLZHQObOWTQDMsr9K-rj53DwVRMYO3t5Yr&index=7&t=942s?rel=0&amp;controls=0&amp;showinfo=0\" frameborder=\"0\" allowfullscreen></iframe>"
      ],
      "text/plain": [
       "<IPython.core.display.HTML object>"
      ]
     },
     "execution_count": 5,
     "metadata": {},
     "output_type": "execute_result"
    }
   ],
   "source": [
    "from IPython.display import HTML\n",
    "HTML('<iframe width=\"560\" height=\"315\" src=\"https://www.youtube.com/watch?v=kfF40MiS7zA&list=PLZHQObOWTQDMsr9K-rj53DwVRMYO3t5Yr&index=7&t=942s?rel=0&amp;controls=0&amp;showinfo=0\" frameborder=\"0\" allowfullscreen></iframe>')"
   ]
  },
  {
   "cell_type": "markdown",
   "metadata": {},
   "source": [
    "Procure por 8:20, por lá terá uma visão geométrica de como esse limite ocorre.\n",
    "![](https://i.imgur.com/m9DsEdS.png)"
   ]
  },
  {
   "cell_type": "markdown",
   "metadata": {},
   "source": [
    "A principal ideia de você usar aquele $\\delta$ é justamente pra procurar uma **vizinhança em torno do ponto $x_0$** tal que o seu input(entrada, algum valor numérico, naquele caso foi 1) cause um output (saída, a imagem da função, naquele caso foi 5) controlado, por isso muitas vezes sabemos controlar o output e queremos apenas saber como fazer o nosso input se comportar pra produzi-lo (output/imagem desejada). Se ficou mais curioso e animado com o jeito trazido no video eu foooooortemente recomendo acompanhar a série, até como uma forma de ver como toda aquela 'abstração' pode ser traduzida na geometria."
   ]
  },
  {
   "cell_type": "markdown",
   "metadata": {},
   "source": [
    "---"
   ]
  }
 ],
 "metadata": {
  "kernelspec": {
   "display_name": "Python 3",
   "language": "python",
   "name": "python3"
  },
  "language_info": {
   "codemirror_mode": {
    "name": "ipython",
    "version": 3
   },
   "file_extension": ".py",
   "mimetype": "text/x-python",
   "name": "python",
   "nbconvert_exporter": "python",
   "pygments_lexer": "ipython3",
   "version": "3.8.3"
  }
 },
 "nbformat": 4,
 "nbformat_minor": 4
}
